{
 "cells": [
  {
   "cell_type": "markdown",
   "metadata": {},
   "source": [
    "# Consolidation of a column\n",
    "\n",
    "In this example, the consolidation of a column with 1 m x 10 m is computed.\n",
    "\n",
    "We use the Richards-Mechanics process type from OpenGeoSys. \n",
    "\n",
    "The column is consolidated once the result p_L = rho_L * gravity * height of the column is obtained."
   ]
  },
  {
   "cell_type": "code",
   "execution_count": null,
   "metadata": {},
   "outputs": [],
   "source": [
    "import os\n",
    "from pathlib import Path\n",
    "\n",
    "out_dir = Path(os.environ.get(\"OGS_TESTRUNNER_OUT_DIR\", \"_out\"))\n",
    "if not out_dir.exists():\n",
    "    out_dir.mkdir(parents=True)\n",
    "\n",
    "prj_file = \"consolidation.prj\"\n",
    "geo_file = \"consolidation_1x10.gml\""
   ]
  },
  {
   "cell_type": "code",
   "execution_count": null,
   "metadata": {},
   "outputs": [],
   "source": [
    "x0 = 0\n",
    "x1 = 1\n",
    "y0 = 0\n",
    "y1 = 10\n",
    "\n",
    "n_x = 1 # number of divisions in x\n",
    "n_y = 10 # number of divisions in y"
   ]
  },
  {
   "cell_type": "code",
   "execution_count": null,
   "metadata": {},
   "outputs": [],
   "source": [
    "import ogs # ogs + tools bin\n",
    "\n",
    "# generate bulk mesh (linear)\n",
    "ogs.cli.generateStructuredMesh(\"-e\", \"quad\", \n",
    "                                   \"-o\", f\"{out_dir}/consolidation_quad_lin.vtu\", \n",
    "                                   \"--lx\", f\"{x1}\",\n",
    "                                   \"--ly\", f\"{y1}\",\n",
    "                                   \"--nx\", f\"{n_x}\",\n",
    "                                   \"--ny\", f\"{n_y}\")\n",
    "\n",
    "# convert linear bulk mesh to quadratic mesh\n",
    "ogs.cli.createQuadraticMesh(\"-i\", f\"{out_dir}/consolidation_quad_lin.vtu\",\n",
    "                            \"-o\", f\"{out_dir}/consolidation.vtu\")\n",
    "\n",
    "\n",
    "ogs.cli.constructMeshesFromGeometry(\"-m\", f\"{out_dir}/consolidation.vtu\",\n",
    "                                    \"-g\", \"consolidation_1x10.gml\",\n",
    "                                    \"-s\", \"1e-12\")\n",
    "\n",
    "mesh_file = f\"{out_dir}/consolidation.vtu\"\n",
    "\n",
    "\n",
    "import shutil\n",
    "shutil.move(\"column_left.vtu\", out_dir)\n",
    "shutil.move(\"column_right.vtu\", out_dir)\n",
    "shutil.move(\"column_bottom.vtu\", out_dir)\n",
    "shutil.move(\"column_top.vtu\", out_dir)"
   ]
  },
  {
   "cell_type": "code",
   "execution_count": null,
   "metadata": {},
   "outputs": [],
   "source": [
    "import os\n",
    "from pathlib import Path\n",
    "\n",
    "out_dir = Path(os.environ.get(\"OGS_TESTRUNNER_OUT_DIR\", \"_out\"))\n",
    "if not out_dir.exists():\n",
    "    out_dir.mkdir(parents=True)\n",
    "\n",
    "    \n",
    "from ogs6py import ogs as ogs_py\n",
    "\n",
    "\n",
    "shutil.copy2(prj_file, out_dir)\n",
    "shutil.copy2(geo_file, out_dir)\n",
    "\n",
    "prj_path = out_dir / prj_file\n",
    "\n",
    "model = ogs_py.OGS(INPUT_FILE=prj_path, PROJECT_FILE=prj_path)\n",
    "model.run_model(\n",
    "    logfile=f\"{out_dir}/out.txt\",\n",
    "    args=f\"-o {out_dir}\",\n",
    "    )"
   ]
  }
 ],
 "metadata": {
  "kernelspec": {
   "display_name": "base",
   "language": "python",
   "name": "python3"
  },
  "language_info": {
   "codemirror_mode": {
    "name": "ipython",
    "version": 3
   },
   "file_extension": ".py",
   "mimetype": "text/x-python",
   "name": "python",
   "nbconvert_exporter": "python",
   "pygments_lexer": "ipython3",
   "version": "3.12.2"
  }
 },
 "nbformat": 4,
 "nbformat_minor": 2
}
