{
 "cells": [
  {
   "cell_type": "code",
   "execution_count": null,
   "metadata": {},
   "outputs": [],
   "source": [
    "from __future__ import annotations\n",
    "\n",
    "import numpy as np\n",
    "\n",
    "import pyvista as pv\n",
    "\n",
    "ni, nj, nk = 4, 5, 6\n",
    "si, sj, sk = 20, 10, 1\n",
    "\n",
    "xcorn = np.arange(0, (ni + 1) * si, si)\n",
    "xcorn = np.repeat(xcorn, 2)\n",
    "xcorn = xcorn[1:-1]\n",
    "xcorn = np.tile(xcorn, 4 * nj * nk)\n",
    "\n",
    "ycorn = np.arange(0, (nj + 1) * sj, sj)\n",
    "ycorn = np.repeat(ycorn, 2)\n",
    "ycorn = ycorn[1:-1]\n",
    "ycorn = np.tile(ycorn, (2 * ni, 2 * nk))\n",
    "ycorn = np.transpose(ycorn)\n",
    "ycorn = ycorn.flatten()\n",
    "\n",
    "zcorn = np.arange(0, (nk + 1) * sk, sk)\n",
    "zcorn = np.repeat(zcorn, 2)\n",
    "zcorn = zcorn[1:-1]\n",
    "zcorn = np.repeat(zcorn, (4 * ni * nj))\n",
    "\n",
    "corners = np.stack((xcorn, ycorn, zcorn))\n",
    "corners = corners.transpose()\n",
    "\n",
    "dims = np.asarray((ni, nj, nk)) + 1\n",
    "grid = pv.ExplicitStructuredGrid(dims, corners)\n",
    "grid = grid.compute_connectivity()\n",
    "grid.plot(show_edges=True)"
   ]
  }
 ],
 "metadata": {
  "language_info": {
   "name": "python"
  }
 },
 "nbformat": 4,
 "nbformat_minor": 2
}
